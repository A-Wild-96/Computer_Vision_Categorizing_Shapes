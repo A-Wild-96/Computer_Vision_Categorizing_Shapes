{
 "cells": [
  {
   "cell_type": "markdown",
   "id": "0c8e368d",
   "metadata": {},
   "source": [
    "# Hand-drawn shape detection using a neural network"
   ]
  },
  {
   "cell_type": "markdown",
   "id": "e6273043",
   "metadata": {},
   "source": [
    "# Abstract"
   ]
  },
  {
   "cell_type": "markdown",
   "id": "ca7c64fe",
   "metadata": {},
   "source": [
    "In this notebook we train a neural network to categorise my own hand drawn shapes labelling each image as either a circle, line or square. The ambitions for this project are two-fold, firstly, my ambition in studying deep learning was to use artificial intelligence to solve my own problems from my own datasets. Secondly, as a rule of thumb, neural networks typically need 1000 examples of each category to successfully train a model. As I do not have the patience to draw 3000 shapes I will be training this neural network using a small number of images (30 per shape) and a variety of data augmentation techniques to expand the dataset to over 3000 examples. The network will then be validated and tested on the remaining images (30 per shape). This emulates a realistic scenario in which data gathering is expensive or time consuming. The neural network is trained in augmented data, however, the network will be validated and tested against non-augmented data, from the original dataset. "
   ]
  },
  {
   "cell_type": "markdown",
   "id": "b338af9c",
   "metadata": {},
   "source": [
    "# Contents"
   ]
  },
  {
   "cell_type": "markdown",
   "id": "1b9eae9a",
   "metadata": {},
   "source": [
    "<ul>\n",
    "    <li>Importing and processing augmented dataset</li>\n",
    "    <li>\n",
    "        Training neural network\n",
    "        <ul>\n",
    "            <li>Defining neural network geometry</li>\n",
    "            <li>Random hyperparameter search</li>\n",
    "            <li>Convergence of the cost function</li>\n",
    "        </ul>\n",
    "    </li>\n",
    "    <li>Validation dataset</li>\n",
    "    <li>Regularisation to prevent overfitting</li>\n",
    "    <li>Testing neural network</li>\n",
    "    <li>Conclusion</li>\n",
    "</ul>"
   ]
  },
  {
   "cell_type": "markdown",
   "id": "a67c7b2b",
   "metadata": {},
   "source": [
    "# Importing and processing augmented dataset"
   ]
  },
  {
   "cell_type": "code",
   "execution_count": 1,
   "id": "de8e3021",
   "metadata": {},
   "outputs": [],
   "source": [
    "from PIL import Image\n",
    "import numpy as np"
   ]
  },
  {
   "cell_type": "markdown",
   "id": "fa0872f6",
   "metadata": {},
   "source": [
    "Import augmented training dataset. Each image has dimensions 25x25 and hence when flattened has 625 features. We import 3240 images in to a numpy matrix as X with dimensions (3240,625)."
   ]
  },
  {
   "cell_type": "code",
   "execution_count": 2,
   "id": "66a96729",
   "metadata": {},
   "outputs": [
    {
     "name": "stdout",
     "output_type": "stream",
     "text": [
      "Imported files: circles\\train\\circle_\n",
      "Imported files: lines\\train\\line_\n",
      "Imported files: squares\\train\\square_\n"
     ]
    }
   ],
   "source": [
    "num_images = 1080*3\n",
    "resolu_images = 25**2\n",
    "file_list = [r\"circles\\train\\circle_\",r\"lines\\train\\line_\",r\"squares\\train\\square_\"]\n",
    "X = np.zeros([num_images, resolu_images])\n",
    "counter = 0\n",
    "for i in range(3):\n",
    "    for j in range(1080):\n",
    "        file_name = file_list[i] + str(j+1) + \".jpg\"\n",
    "        X[counter] = np.matrix.flatten(np.array(Image.open(file_name).convert('L')))\n",
    "        counter += 1\n",
    "    print(\"Imported files: {}\".format(file_list[i]))"
   ]
  },
  {
   "cell_type": "code",
   "execution_count": 3,
   "id": "8c94130e",
   "metadata": {},
   "outputs": [
    {
     "data": {
      "text/plain": [
       "(3240, 625)"
      ]
     },
     "execution_count": 3,
     "metadata": {},
     "output_type": "execute_result"
    }
   ],
   "source": [
    "X.shape"
   ]
  },
  {
   "cell_type": "markdown",
   "id": "590ad09e",
   "metadata": {},
   "source": [
    "Each feature has an RGB value between 0 and 255 which we now normalise."
   ]
  },
  {
   "cell_type": "code",
   "execution_count": 4,
   "id": "1d196357",
   "metadata": {},
   "outputs": [],
   "source": [
    "#Normalise RGB values\n",
    "X = X / 255"
   ]
  },
  {
   "cell_type": "markdown",
   "id": "8169a4d2",
   "metadata": {},
   "source": [
    "We now define our target class as y with dimensions (3240,1). Each image is either a circle (0), a line (1) or a square (2)."
   ]
  },
  {
   "cell_type": "code",
   "execution_count": 5,
   "id": "80a044e2",
   "metadata": {},
   "outputs": [],
   "source": [
    "y = np.genfromtxt(\"train_target_class.csv\", delimiter=',')\n",
    "y = y.reshape((num_images,1))"
   ]
  },
  {
   "cell_type": "code",
   "execution_count": 6,
   "id": "c4ccd2cd",
   "metadata": {},
   "outputs": [
    {
     "data": {
      "text/plain": [
       "array([[0.],\n",
       "       [0.],\n",
       "       [0.],\n",
       "       ...,\n",
       "       [2.],\n",
       "       [2.],\n",
       "       [2.]])"
      ]
     },
     "execution_count": 6,
     "metadata": {},
     "output_type": "execute_result"
    }
   ],
   "source": [
    "y"
   ]
  },
  {
   "cell_type": "code",
   "execution_count": 7,
   "id": "b4aba944",
   "metadata": {},
   "outputs": [
    {
     "data": {
      "text/plain": [
       "(3240, 1)"
      ]
     },
     "execution_count": 7,
     "metadata": {},
     "output_type": "execute_result"
    }
   ],
   "source": [
    "y.shape"
   ]
  },
  {
   "cell_type": "markdown",
   "id": "08bf687d",
   "metadata": {},
   "source": [
    "# Data augmentation"
   ]
  },
  {
   "cell_type": "markdown",
   "id": "fc2059b1",
   "metadata": {},
   "source": [
    "To artificially incraese the amount of training data we can utilise data augmentatio. For each image we flip, rotate, blur and sharpen increasing the original dataset of 90 (30 per shape) to 3240 (1080 per shape). As few exmaples of these are below."
   ]
  },
  {
   "cell_type": "code",
   "execution_count": 8,
   "id": "4f89dcaf",
   "metadata": {},
   "outputs": [],
   "source": [
    "from matplotlib import pyplot as plt\n",
    "%matplotlib inline "
   ]
  },
  {
   "cell_type": "code",
   "execution_count": 9,
   "id": "b97d6857",
   "metadata": {},
   "outputs": [
    {
     "data": {
      "image/png": "[encoded data removed]",
      "text/plain": [
       "<Figure size 432x288 with 6 Axes>"
      ]
     },
     "metadata": {
      "needs_background": "light"
     },
     "output_type": "display_data"
    }
   ],
   "source": [
    "fig, axs = plt.subplots(1,6)\n",
    "fig_indices = [2160, 2160+30, 2160+60, 2160+120, 3240-720,3240-360]\n",
    "for i in range(6):\n",
    "    axs[i].imshow(X[fig_indices[i]].reshape((25,25)))"
   ]
  },
  {
   "cell_type": "markdown",
   "id": "964c1dac",
   "metadata": {},
   "source": [
    "# Training neural network"
   ]
  },
  {
   "cell_type": "markdown",
   "id": "0d23b4c6",
   "metadata": {},
   "source": [
    "### Defining neural network hyperparameters"
   ]
  },
  {
   "cell_type": "markdown",
   "id": "663dd083",
   "metadata": {},
   "source": [
    "We now train a neural network on this augmented data. We utilise a softmax neural network which are typically used for catagorisation problems. In this work we will make an initial assumption that a sufficiently sophisticated network can be trained on three layers (two hidden layers). To decide other hyperparameters such as the number of units per layer and the learning rate we perform a random search. We will randomly initialize hyperparameters between sensible limits and see which sets of parameters give timely and controlled minimisation of the cost function."
   ]
  },
  {
   "cell_type": "markdown",
   "id": "613bb7dd",
   "metadata": {},
   "source": [
    "### Random hyperparameter search"
   ]
  },
  {
   "cell_type": "markdown",
   "id": "1c9eb733",
   "metadata": {},
   "source": [
    "Units in hidden layer 1: Integer value rounded from $10^a$ for $1 \\leq a \\leq 3$.\n",
    "\n",
    "Units in hidden layer 2: Integer value rounded from $10^b$ for $-2 \\leq b \\leq 0$ times the units in hidden layer 1.\n",
    "\n",
    "Learning rate: Value $\\alpha = 10^c$ for $-7 \\leq c \\leq -1$.\n",
    "\n",
    "The number of layers in the output layer is fixed to the number of classes (3). We pick the activation function of the hidden layers to be \"relu\". The activation function of the output layer is linear using logits (equivalent to softmax). For each set of random hyperparameters we plot the loss over 50 epochs. We are looking for hyperparameters that yield a timely yet smooth decrease in loss."
   ]
  },
  {
   "cell_type": "code",
   "execution_count": 10,
   "id": "94289925",
   "metadata": {},
   "outputs": [],
   "source": [
    "import tensorflow as tf\n",
    "from tensorflow.keras.models import Sequential\n",
    "from tensorflow.keras.layers import Dense\n",
    "from tensorflow.keras.activations import linear, relu, sigmoid"
   ]
  },
  {
   "cell_type": "code",
   "execution_count": 11,
   "id": "12451ba3",
   "metadata": {
    "scrolled": true
   },
   "outputs": [],
   "source": [
    "num_iters = 20\n",
    "num_epochs = 50\n",
    "l_1_units_list = []\n",
    "l_2_units_list = []\n",
    "l_3_units_list = []\n",
    "learning_rate_val_list = []\n",
    "J_list = np.zeros((num_epochs,num_iters))\n",
    "\n",
    "for k in range(num_iters):    \n",
    "    np.random.seed(42 + k)\n",
    "    #Random search of hyperparameters\n",
    "    l_1_units = int(10**(np.random.rand()*2 + 1))\n",
    "    l_2_units = int(l_1_units / (10**(0.5 + np.random.rand())))\n",
    "    l_3_units = int(l_2_units / (10**(0.5 + np.random.rand())))\n",
    "    learning_rate_val = 10**(-np.random.rand()*3 - 3)\n",
    "    \n",
    "    l_1_units_list.append(l_1_units)\n",
    "    l_2_units_list.append(l_2_units)\n",
    "    l_3_units_list.append(l_3_units)\n",
    "    learning_rate_val_list.append(learning_rate_val)\n",
    "    \n",
    "    tf.random.set_seed(1234) # for consistent results\n",
    "    model = Sequential(\n",
    "        [               \n",
    "            ### START CODE HERE ### \n",
    "            Dense(units=l_1_units, activation='relu'),\n",
    "            Dense(units=l_2_units, activation='relu'),\n",
    "            Dense(units=l_3_units, activation='relu'),\n",
    "            Dense(units=3, activation='linear')\n",
    "            ### END CODE HERE ### \n",
    "        ], name = \"my_model\" \n",
    "    )\n",
    "    model.compile(loss=tf.keras.losses.SparseCategoricalCrossentropy(from_logits=True),\n",
    "                 optimizer=tf.keras.optimizers.Adam(learning_rate=learning_rate_val),)\n",
    "    history = model.fit(X, y, epochs=num_epochs, verbose=0)\n",
    "    J_list[:,k] = history.history['loss']"
   ]
  },
  {
   "cell_type": "markdown",
   "id": "720526c8",
   "metadata": {},
   "source": [
    "Out of each set of hyperparameters it seems that set 10 provides a steady yet timely decrease in the cost function."
   ]
  },
  {
   "cell_type": "code",
   "execution_count": 12,
   "id": "daf63c60",
   "metadata": {},
   "outputs": [
    {
     "data": {
      "text/plain": [
       "(Text(0, 0.5, 'Cost function'), Text(0.5, 0, 'Epochs'))"
      ]
     },
     "execution_count": 12,
     "metadata": {},
     "output_type": "execute_result"
    },
    {
     "data": {
      "image/png": "[encoded data removed]",
      "text/plain": [
       "<Figure size 432x288 with 1 Axes>"
      ]
     },
     "metadata": {
      "needs_background": "light"
     },
     "output_type": "display_data"
    }
   ],
   "source": [
    "marker_list = [\"o\",\"s\",\"^\",\"|\"]\n",
    "for k in range(num_iters):\n",
    "    plt.plot(J_list[:,k], label = \"Params: {}\".format(k), marker=marker_list[k % 4])\n",
    "    plt.legend(loc='upper center',bbox_to_anchor=(0.5, -0.05), fancybox=True, shadow=True, ncol=5)\n",
    "plt.ylabel(\"Cost function\"), plt.xlabel(\"Epochs\")"
   ]
  },
  {
   "cell_type": "code",
   "execution_count": 21,
   "id": "92624935",
   "metadata": {},
   "outputs": [
    {
     "name": "stdout",
     "output_type": "stream",
     "text": [
      "For parameters k=10: layer 1 has 442 units, layer 2 has 131 units and layer 3 has 25 units.\n",
      "For parameters k=10: the learning rate is 1.3955155880057205e-05.\n"
     ]
    }
   ],
   "source": [
    "k = 10\n",
    "print(\"For parameters k={}: layer 1 has {} units, layer 2 has {} units and layer 3 has {} units.\".format(k, l_1_units_list[k], l_2_units_list[k], l_3_units_list[k]))\n",
    "print(\"For parameters k={}: the learning rate is {}.\".format(k, learning_rate_val_list[k], l_2_units_list[k]))"
   ]
  },
  {
   "cell_type": "markdown",
   "id": "89565526",
   "metadata": {},
   "source": [
    "### Convergence of the cost function"
   ]
  },
  {
   "cell_type": "markdown",
   "id": "1b5ebe2f",
   "metadata": {},
   "source": [
    "Lets test convergence over more epochs."
   ]
  },
  {
   "cell_type": "code",
   "execution_count": 13,
   "id": "05e1d137",
   "metadata": {
    "scrolled": true
   },
   "outputs": [],
   "source": [
    "num_epochs = 500    \n",
    "tf.random.set_seed(1234) # for consistent results\n",
    "model = Sequential(\n",
    "    [               \n",
    "        ### START CODE HERE ### \n",
    "        Dense(units=442, activation='relu'),\n",
    "        Dense(units=131, activation='relu'),\n",
    "        Dense(units=25, activation='relu'),\n",
    "        Dense(units=3, activation='linear')\n",
    "        ### END CODE HERE ### \n",
    "    ], name = \"my_model\" \n",
    ")\n",
    "model.compile(loss=tf.keras.losses.SparseCategoricalCrossentropy(from_logits=True),\n",
    "             optimizer=tf.keras.optimizers.Adam(learning_rate=1.29e-05),)\n",
    "history = model.fit(X, y, epochs=num_epochs, verbose=0)\n",
    "J = history.history['loss']"
   ]
  },
  {
   "cell_type": "markdown",
   "id": "8e474103",
   "metadata": {},
   "source": [
    "We reach convergence in the cost function in 500 epochs!"
   ]
  },
  {
   "cell_type": "code",
   "execution_count": 14,
   "id": "fd37be29",
   "metadata": {},
   "outputs": [
    {
     "data": {
      "text/plain": [
       "[<matplotlib.lines.Line2D at 0x1c1734e22e0>]"
      ]
     },
     "execution_count": 14,
     "metadata": {},
     "output_type": "execute_result"
    },
    {
     "data": {
      "image/png": "[encoded data removed]",
      "text/plain": [
       "<Figure size 432x288 with 1 Axes>"
      ]
     },
     "metadata": {
      "needs_background": "light"
     },
     "output_type": "display_data"
    }
   ],
   "source": [
    "plt.plot(J)"
   ]
  },
  {
   "cell_type": "code",
   "execution_count": 15,
   "id": "3704753f",
   "metadata": {},
   "outputs": [
    {
     "name": "stdout",
     "output_type": "stream",
     "text": [
      "102/102 [==============================] - 0s 3ms/step\n"
     ]
    },
    {
     "data": {
      "text/plain": [
       "(Text(0, 0.5, 'Cost function'), Text(0.5, 0, 'Epochs'))"
      ]
     },
     "execution_count": 15,
     "metadata": {},
     "output_type": "execute_result"
    },
    {
     "data": {
      "image/png": "[encoded data removed]",
      "text/plain": [
       "<Figure size 432x288 with 1 Axes>"
      ]
     },
     "metadata": {
      "needs_background": "light"
     },
     "output_type": "display_data"
    }
   ],
   "source": [
    "prediction = model.predict(X)\n",
    "prediction_p = tf.nn.softmax(prediction)\n",
    "y_hat = np.zeros((len(prediction_p),1))\n",
    "for i in range(len(y_hat)):\n",
    "    y_hat[i] = np.argmax(prediction_p[i])\n",
    "plt.ylabel(\"Cost function\"), plt.xlabel(\"Epochs\")"
   ]
  },
  {
   "cell_type": "markdown",
   "id": "d543e9ab",
   "metadata": {},
   "source": [
    "We can see that our neural network predicts the test data we get an accuracy of 100%. This tells us that our model is sufficiently large enough to predict such results. If we could not reach high accuracy on training data we would need to increase the size of the network."
   ]
  },
  {
   "cell_type": "code",
   "execution_count": 16,
   "id": "169f2819",
   "metadata": {},
   "outputs": [
    {
     "data": {
      "text/plain": [
       "1.0"
      ]
     },
     "execution_count": 16,
     "metadata": {},
     "output_type": "execute_result"
    }
   ],
   "source": [
    "np.sum(y_hat == y)/len(y)"
   ]
  },
  {
   "cell_type": "markdown",
   "id": "e6f675aa",
   "metadata": {},
   "source": [
    "# Validation dataset"
   ]
  },
  {
   "cell_type": "markdown",
   "id": "4d875778",
   "metadata": {},
   "source": [
    "Lets load in our validation dataset. Note that our validation data is raw data and not augmented like our training data."
   ]
  },
  {
   "cell_type": "code",
   "execution_count": 17,
   "id": "5d734adc",
   "metadata": {},
   "outputs": [
    {
     "name": "stdout",
     "output_type": "stream",
     "text": [
      "Imported files: circles\\valid\\circle_\n",
      "Imported files: lines\\valid\\line_\n",
      "Imported files: squares\\valid\\square_\n"
     ]
    }
   ],
   "source": [
    "num_images = 15*3\n",
    "resolu_images = 25**2\n",
    "file_list = [r\"circles\\valid\\circle_\",r\"lines\\valid\\line_\",r\"squares\\valid\\square_\"]\n",
    "X_valid = np.zeros([num_images, resolu_images])\n",
    "counter = 0\n",
    "for i in range(3):\n",
    "    for j in range(15):\n",
    "        file_name = file_list[i] + str(j+1) + \".jpg\"\n",
    "        X_valid[counter] = np.matrix.flatten(np.array(Image.open(file_name).convert('L')))\n",
    "        counter += 1\n",
    "    print(\"Imported files: {}\".format(file_list[i]))"
   ]
  },
  {
   "cell_type": "markdown",
   "id": "7543af64",
   "metadata": {},
   "source": [
    "Normalise validation data."
   ]
  },
  {
   "cell_type": "code",
   "execution_count": 18,
   "id": "3d62ba23",
   "metadata": {},
   "outputs": [],
   "source": [
    "X_valid = X_valid / 255"
   ]
  },
  {
   "cell_type": "code",
   "execution_count": 19,
   "id": "5f44c5a3",
   "metadata": {},
   "outputs": [
    {
     "data": {
      "text/plain": [
       "(45, 625)"
      ]
     },
     "execution_count": 19,
     "metadata": {},
     "output_type": "execute_result"
    }
   ],
   "source": [
    "X_valid.shape"
   ]
  },
  {
   "cell_type": "code",
   "execution_count": 20,
   "id": "541f7790",
   "metadata": {},
   "outputs": [],
   "source": [
    "y_valid = np.genfromtxt(\"valid_target_class.csv\", delimiter=',')\n",
    "y_valid = y_valid.reshape((num_images,1))"
   ]
  },
  {
   "cell_type": "code",
   "execution_count": 21,
   "id": "673c625b",
   "metadata": {},
   "outputs": [
    {
     "data": {
      "text/plain": [
       "(45, 1)"
      ]
     },
     "execution_count": 21,
     "metadata": {},
     "output_type": "execute_result"
    }
   ],
   "source": [
    "y_valid.shape"
   ]
  },
  {
   "cell_type": "code",
   "execution_count": 22,
   "id": "a26d3f2a",
   "metadata": {},
   "outputs": [
    {
     "name": "stdout",
     "output_type": "stream",
     "text": [
      "2/2 [==============================] - 0s 4ms/step\n"
     ]
    }
   ],
   "source": [
    "prediction_valid = model.predict(X_valid)\n",
    "prediction_valid_p = tf.nn.softmax(prediction_valid)\n",
    "y_hat_valid = np.zeros((len(prediction_valid_p),1))\n",
    "for i in range(len(y_hat_valid)):\n",
    "    y_hat_valid[i] = np.argmax(prediction_valid_p[i])"
   ]
  },
  {
   "cell_type": "code",
   "execution_count": 23,
   "id": "ee61818f",
   "metadata": {},
   "outputs": [
    {
     "data": {
      "text/plain": [
       "0.8888888888888888"
      ]
     },
     "execution_count": 23,
     "metadata": {},
     "output_type": "execute_result"
    }
   ],
   "source": [
    "np.sum(y_hat_valid == y_valid)/len(y_valid)"
   ]
  },
  {
   "cell_type": "markdown",
   "id": "4805a842",
   "metadata": {},
   "source": [
    "We actually achieve 89% accuracy on our validation data which is good considering we have not yet adjusted for overfitting to our training data."
   ]
  },
  {
   "cell_type": "markdown",
   "id": "f5e3e73e",
   "metadata": {},
   "source": [
    "# Regularisation to prevent overfitting"
   ]
  },
  {
   "cell_type": "markdown",
   "id": "e688f271",
   "metadata": {},
   "source": [
    "To prevent overfitting to the test dataset we utilise L2 regularisation. Lets perform a grid search with varying degrees of L2 regularisation to try and increase our validation dataset accuracy at the expense of training dataset accuracy."
   ]
  },
  {
   "cell_type": "markdown",
   "id": "4e7f83cc",
   "metadata": {},
   "source": [
    "We vary the amount of L2 regularisation with values $10^d$ where $d = [-3, -2.5, -2, -1.5, -1, -0.5, 0]$. Then the neural network is trained on the training dataset towards convergence (~300 epochs). Then the training dataset accuracy is compared to the test dataset accuracy."
   ]
  },
  {
   "cell_type": "code",
   "execution_count": 24,
   "id": "ecf9e3aa",
   "metadata": {
    "scrolled": true
   },
   "outputs": [
    {
     "name": "stdout",
     "output_type": "stream",
     "text": [
      "102/102 [==============================] - 0s 3ms/step\n",
      "2/2 [==============================] - 0s 3ms/step\n",
      "102/102 [==============================] - 0s 3ms/step\n",
      "2/2 [==============================] - 0s 5ms/step\n",
      "102/102 [==============================] - 0s 3ms/step\n",
      "2/2 [==============================] - 0s 3ms/step\n",
      "102/102 [==============================] - 0s 3ms/step\n",
      "2/2 [==============================] - 0s 3ms/step\n",
      "102/102 [==============================] - 0s 3ms/step\n",
      "2/2 [==============================] - 0s 4ms/step\n",
      "102/102 [==============================] - 0s 3ms/step\n",
      "2/2 [==============================] - 0s 3ms/step\n"
     ]
    }
   ],
   "source": [
    "l2_reg_val_list = 10**np.arange(-3,0,0.5)\n",
    "num_iters = len(l2_reg_val_list)\n",
    "num_epochs = 300\n",
    "J_list = np.zeros((num_epochs,num_iters))\n",
    "train_precision = []\n",
    "valid_precision = []\n",
    "counter = 0\n",
    "for l2_reg_val in l2_reg_val_list:    \n",
    "    np.random.seed(42 + k)\n",
    "    \n",
    "    \n",
    "    tf.random.set_seed(1234) # for consistent results\n",
    "    model = Sequential(\n",
    "        [               \n",
    "            ### START CODE HERE ### \n",
    "            Dense(units=442, activation='relu',activity_regularizer=tf.keras.regularizers.L2(l2_reg_val)),\n",
    "            Dense(units=131, activation='relu',activity_regularizer=tf.keras.regularizers.L2(l2_reg_val)),\n",
    "            Dense(units=25, activation='relu',activity_regularizer=tf.keras.regularizers.L2(l2_reg_val)),\n",
    "            Dense(units=4, activation='linear',activity_regularizer=tf.keras.regularizers.L2(l2_reg_val))\n",
    "            ### END CODE HERE ### \n",
    "        ], name = \"my_model\" \n",
    "    )\n",
    "    model.compile(loss=tf.keras.losses.SparseCategoricalCrossentropy(from_logits=True),\n",
    "                 optimizer=tf.keras.optimizers.Adam(learning_rate=3*(10**(-5))),)\n",
    "    history = model.fit(X, y, epochs=num_epochs, verbose=0)\n",
    "    J_list[:,counter] = history.history['loss']\n",
    "    counter +=1\n",
    "    prediction_train = model.predict(X)\n",
    "    prediction_train_p = tf.nn.softmax(prediction_train)\n",
    "    y_hat_train = np.zeros((len(prediction_train_p),1))\n",
    "    for i in range(len(y_hat_train)):\n",
    "        y_hat_train[i] = np.argmax(prediction_train_p[i])\n",
    "    train_precision.append(np.sum(y_hat_train==y)/len(y_hat_train))\n",
    "    \n",
    "    prediction_valid = model.predict(X_valid)\n",
    "    prediction_valid_p = tf.nn.softmax(prediction_valid)\n",
    "    y_hat_valid = np.zeros((len(prediction_valid_p),1))\n",
    "    for i in range(len(y_hat_valid)):\n",
    "        y_hat_valid[i] = np.argmax(prediction_valid_p[i])\n",
    "    valid_precision.append(np.sum(y_hat_valid==y_valid)/len(y_valid))"
   ]
  },
  {
   "cell_type": "markdown",
   "id": "db075476",
   "metadata": {},
   "source": [
    "We see a small increase in the validation dataset for L2 regularisation with srength 0.01, lets explore values around this number. "
   ]
  },
  {
   "cell_type": "code",
   "execution_count": 25,
   "id": "b7187cc2",
   "metadata": {},
   "outputs": [
    {
     "data": {
      "text/plain": [
       "(Text(0, 0.5, 'Cost function'), Text(0.5, 0, 'log(L2)'))"
      ]
     },
     "execution_count": 25,
     "metadata": {},
     "output_type": "execute_result"
    },
    {
     "data": {
      "image/png": "[encoded data removed]",
      "text/plain": [
       "<Figure size 432x288 with 1 Axes>"
      ]
     },
     "metadata": {
      "needs_background": "light"
     },
     "output_type": "display_data"
    }
   ],
   "source": [
    "plt.plot(np.log10(l2_reg_val_list),train_precision,'ko',label=\"train precision\")\n",
    "plt.plot(np.log10(l2_reg_val_list),valid_precision,'bx',label=\"validate precision\")\n",
    "plt.ylabel(\"Cost function\"), plt.xlabel(\"log(L2)\")"
   ]
  },
  {
   "cell_type": "markdown",
   "id": "83c260c6",
   "metadata": {},
   "source": [
    "Now we vary the L2 parameter strength as $10^d$ where for $d$ between $-2.375$ and $-1.5$."
   ]
  },
  {
   "cell_type": "code",
   "execution_count": 26,
   "id": "38280727",
   "metadata": {
    "scrolled": true
   },
   "outputs": [
    {
     "name": "stdout",
     "output_type": "stream",
     "text": [
      "102/102 [==============================] - 0s 3ms/step\n",
      "2/2 [==============================] - 0s 3ms/step\n",
      "102/102 [==============================] - 0s 3ms/step\n",
      "2/2 [==============================] - 0s 3ms/step\n",
      "102/102 [==============================] - 0s 3ms/step\n",
      "2/2 [==============================] - 0s 4ms/step\n",
      "102/102 [==============================] - 0s 3ms/step\n",
      "2/2 [==============================] - 0s 5ms/step\n",
      "102/102 [==============================] - 1s 3ms/step\n",
      "2/2 [==============================] - 0s 4ms/step\n",
      "102/102 [==============================] - 0s 3ms/step\n",
      "2/2 [==============================] - 0s 4ms/step\n",
      "102/102 [==============================] - 0s 3ms/step\n",
      "2/2 [==============================] - 0s 5ms/step\n"
     ]
    }
   ],
   "source": [
    "l2_reg_val_list = 10**np.arange(-2.375,-1.5,0.125)\n",
    "num_iters = len(l2_reg_val_list)\n",
    "num_epochs = 300\n",
    "J_list = np.zeros((num_epochs,num_iters))\n",
    "train_precision = []\n",
    "valid_precision = []\n",
    "counter = 0\n",
    "for l2_reg_val in l2_reg_val_list:    \n",
    "    np.random.seed(42 + k)\n",
    "    \n",
    "    \n",
    "    tf.random.set_seed(1234) # for consistent results\n",
    "    model = Sequential(\n",
    "        [               \n",
    "            ### START CODE HERE ### \n",
    "            Dense(units=442, activation='relu',activity_regularizer=tf.keras.regularizers.L2(l2_reg_val)),\n",
    "            Dense(units=131, activation='relu',activity_regularizer=tf.keras.regularizers.L2(l2_reg_val)),\n",
    "            Dense(units=25, activation='relu',activity_regularizer=tf.keras.regularizers.L2(l2_reg_val)),\n",
    "            Dense(units=4, activation='linear',activity_regularizer=tf.keras.regularizers.L2(l2_reg_val))\n",
    "            ### END CODE HERE ### \n",
    "        ], name = \"my_model\" \n",
    "    )\n",
    "    model.compile(loss=tf.keras.losses.SparseCategoricalCrossentropy(from_logits=True),\n",
    "                 optimizer=tf.keras.optimizers.Adam(learning_rate=3*(10**(-5))),)\n",
    "    history = model.fit(X, y, epochs=num_epochs, verbose=0)\n",
    "    J_list[:,counter] = history.history['loss']\n",
    "    counter +=1\n",
    "    prediction_train = model.predict(X)\n",
    "    prediction_train_p = tf.nn.softmax(prediction_train)\n",
    "    y_hat_train = np.zeros((len(prediction_train_p),1))\n",
    "    for i in range(len(y_hat_train)):\n",
    "        y_hat_train[i] = np.argmax(prediction_train_p[i])\n",
    "    train_precision.append(np.sum(y_hat_train==y)/len(y_hat_train))\n",
    "    \n",
    "    prediction_valid = model.predict(X_valid)\n",
    "    prediction_valid_p = tf.nn.softmax(prediction_valid)\n",
    "    y_hat_valid = np.zeros((len(prediction_valid_p),1))\n",
    "    for i in range(len(y_hat_valid)):\n",
    "        y_hat_valid[i] = np.argmax(prediction_valid_p[i])\n",
    "    valid_precision.append(np.sum(y_hat_valid==y_valid)/len(y_valid))"
   ]
  },
  {
   "cell_type": "markdown",
   "id": "40f769f9",
   "metadata": {},
   "source": [
    "We see quite large variation in the validation dataset accuracy for small changes in the L2 regularisation strength. This variation is likely demonstrating that our dataset is on the small side. For example, when $d$ is $-1.875$ we obtain 42/45 correct solutions whilst when $d$ is $-1.75$ we get 45/45 correct. If we had more data this variation would smooth out."
   ]
  },
  {
   "cell_type": "code",
   "execution_count": 27,
   "id": "6b53df28",
   "metadata": {},
   "outputs": [
    {
     "data": {
      "text/plain": [
       "(Text(0, 0.5, 'Cost function'), Text(0.5, 0, 'log(L2)'))"
      ]
     },
     "execution_count": 27,
     "metadata": {},
     "output_type": "execute_result"
    },
    {
     "data": {
      "image/png": "[encoded data removed]",
      "text/plain": [
       "<Figure size 432x288 with 1 Axes>"
      ]
     },
     "metadata": {
      "needs_background": "light"
     },
     "output_type": "display_data"
    }
   ],
   "source": [
    "plt.plot(np.log10(l2_reg_val_list),train_precision,'ko',label=\"train precision\")\n",
    "plt.plot(np.log10(l2_reg_val_list),valid_precision,'bx',label=\"validate precision\")\n",
    "plt.ylabel(\"Cost function\"), plt.xlabel(\"log(L2)\")"
   ]
  },
  {
   "cell_type": "markdown",
   "id": "2be30b62",
   "metadata": {},
   "source": [
    "Nevertheless, we will proceed with the best value of $d =  -1.75$. A note will be made that more data is needed for a validation test set. This project was meant to emulate an situation where data gathering is expensive - perhaps more of the original data should be used for validation and testing and a smaller mount of data augmented for training."
   ]
  },
  {
   "cell_type": "markdown",
   "id": "b18ab96a",
   "metadata": {},
   "source": [
    "# Testing neural network"
   ]
  },
  {
   "cell_type": "markdown",
   "id": "393ea9a4",
   "metadata": {},
   "source": [
    "Lets import our test dataset, normalise it and test our neural network."
   ]
  },
  {
   "cell_type": "code",
   "execution_count": 28,
   "id": "6b56cb38",
   "metadata": {},
   "outputs": [
    {
     "name": "stdout",
     "output_type": "stream",
     "text": [
      "Imported files: circles\\test\\circle_\n",
      "Imported files: lines\\test\\line_\n",
      "Imported files: squares\\test\\square_\n"
     ]
    }
   ],
   "source": [
    "num_images = 15*3\n",
    "resolu_images = 25**2\n",
    "file_list = [r\"circles\\test\\circle_\",r\"lines\\test\\line_\",r\"squares\\test\\square_\"]\n",
    "X_test = np.zeros([num_images, resolu_images])\n",
    "counter = 0\n",
    "for i in range(3):\n",
    "    for j in range(15):\n",
    "        file_name = file_list[i] + str(j+1) + \".jpg\"\n",
    "        X_test[counter] = np.matrix.flatten(np.array(Image.open(file_name).convert('L')))\n",
    "        counter += 1\n",
    "    print(\"Imported files: {}\".format(file_list[i]))"
   ]
  },
  {
   "cell_type": "code",
   "execution_count": 29,
   "id": "00f27233",
   "metadata": {},
   "outputs": [],
   "source": [
    "X_test = X_test / 255"
   ]
  },
  {
   "cell_type": "code",
   "execution_count": 30,
   "id": "81877e59",
   "metadata": {},
   "outputs": [],
   "source": [
    "y_test = np.genfromtxt(\"test_target_class.csv\", delimiter=',')\n",
    "y_test = y_test.reshape((num_images,1))"
   ]
  },
  {
   "cell_type": "code",
   "execution_count": 31,
   "id": "94411a3a",
   "metadata": {
    "scrolled": true
   },
   "outputs": [],
   "source": [
    "num_epochs = 300    \n",
    "tf.random.set_seed(1234) # for consistent results\n",
    "model = Sequential(\n",
    "    [               \n",
    "        ### START CODE HERE ### \n",
    "        Dense(units=442, activation='relu',activity_regularizer=tf.keras.regularizers.L2(10**(-1.75))),\n",
    "        Dense(units=131, activation='relu',activity_regularizer=tf.keras.regularizers.L2(10**(-1.75))),\n",
    "        Dense(units=25, activation='relu',activity_regularizer=tf.keras.regularizers.L2(10**(-1.75))),\n",
    "        Dense(units=3, activation='linear',activity_regularizer=tf.keras.regularizers.L2(10**(-1.75)))\n",
    "        ### END CODE HERE ### \n",
    "    ], name = \"my_model\" \n",
    ")\n",
    "model.compile(loss=tf.keras.losses.SparseCategoricalCrossentropy(from_logits=True),\n",
    "             optimizer=tf.keras.optimizers.Adam(learning_rate=1.29e-05),)\n",
    "history = model.fit(X, y, epochs=num_epochs, verbose=0)\n",
    "J = history.history['loss']"
   ]
  },
  {
   "cell_type": "code",
   "execution_count": 32,
   "id": "dca31ef8",
   "metadata": {},
   "outputs": [
    {
     "name": "stdout",
     "output_type": "stream",
     "text": [
      "2/2 [==============================] - 0s 4ms/step\n"
     ]
    }
   ],
   "source": [
    "prediction_test = model.predict(X_test)\n",
    "prediction_test_p = tf.nn.softmax(prediction_test)\n",
    "y_hat_test = np.zeros((len(prediction_test_p),1))\n",
    "for i in range(len(y_hat_test)):\n",
    "    y_hat_test[i] = np.argmax(prediction_test_p[i])"
   ]
  },
  {
   "cell_type": "markdown",
   "id": "94925ff5",
   "metadata": {},
   "source": [
    "We obtain an accuracy of 93% - this is better than we obtained on our validation dataset. Due to the small amoutn of validation and test examples we can't say with certainty how effective regularisation was."
   ]
  },
  {
   "cell_type": "code",
   "execution_count": 33,
   "id": "9c950e3f",
   "metadata": {},
   "outputs": [
    {
     "data": {
      "text/plain": [
       "0.9333333333333333"
      ]
     },
     "execution_count": 33,
     "metadata": {},
     "output_type": "execute_result"
    }
   ],
   "source": [
    "np.sum(y_hat_test == y_test)/len(y_test)"
   ]
  },
  {
   "cell_type": "markdown",
   "id": "dbcf2329",
   "metadata": {},
   "source": [
    "We got 3/45 examples wrong. "
   ]
  },
  {
   "cell_type": "code",
   "execution_count": 34,
   "id": "03b40109",
   "metadata": {},
   "outputs": [
    {
     "data": {
      "text/plain": [
       "3"
      ]
     },
     "execution_count": 34,
     "metadata": {},
     "output_type": "execute_result"
    }
   ],
   "source": [
    "np.sum(y_hat_test != y_test)"
   ]
  },
  {
   "cell_type": "markdown",
   "id": "97c82fa5",
   "metadata": {},
   "source": [
    "Plotting the three incorrectly classified images we see that three squares (2) were incorrectly catagorised as circles (0). The first and third incorrect images are slightly rounded, which may have confused the newtork. Perhaps higher resolution images would have aided this classification. Nevertheless, I do believe a human would be able to correctly label these results as squares meaning in this case the network is performing under baseline performance. The second result is less concerning. I believe the protruding line from the square means this image is an outlier."
   ]
  },
  {
   "cell_type": "code",
   "execution_count": 35,
   "id": "8323f50a",
   "metadata": {},
   "outputs": [],
   "source": [
    "incorrect_index = np.where(y_hat_test != y_test)[0]"
   ]
  },
  {
   "cell_type": "code",
   "execution_count": 36,
   "id": "c1aefa33",
   "metadata": {},
   "outputs": [
    {
     "data": {
      "image/png": "[encoded data removed]",
      "text/plain": [
       "<Figure size 432x288 with 3 Axes>"
      ]
     },
     "metadata": {
      "needs_background": "light"
     },
     "output_type": "display_data"
    }
   ],
   "source": [
    "fig, axs = plt.subplots(1,3)\n",
    "for i in range(3):\n",
    "    axs[i].imshow(X_test[incorrect_index[i]].reshape((25,25)))\n",
    "    axs[i].text(0,-5,\"Correct was: {}\".format(y_test[incorrect_index[i],0]))\n",
    "    axs[i].text(0,-2,\"Guessed was: {}\".format(y_hat_test[incorrect_index[i],0]))"
   ]
  },
  {
   "cell_type": "markdown",
   "id": "45592bb0",
   "metadata": {},
   "source": [
    "# Conclusion"
   ]
  },
  {
   "cell_type": "markdown",
   "id": "73b00cb5",
   "metadata": {},
   "source": [
    "To summarise, from only 180 original images we have successfully trained a neural network that can successfully distinguish lines and shapes and is over 90% successful at distinguishing low-resolution circles and squares. \n",
    "\n",
    "To train a more effective model several improvements could be made. More data should we including in the validation dataset, this would allow more effective tuning of the regularisation parameter which would prevent overfitting to the heavily augmented trainign dataset. \n",
    "\n",
    "Perhaps two validation datasets could be made - the first from the augmented dataset and the second from the non-augmented dataset. The augmeted validation set could be used to tune regularisaition that can prevent overfitting within the augmented dataset. The second, non-augmented validation dataset could instead be used to prevent overfitting to the augmented dataset. To explain this example in simple terms, imagine we trained a neural network to distinguish cats and dogs. Lets imagine we took a small selection of 15 cats from a dataset of 45 cats - to train the neural model we then augmented the training dataset by flipping, rotating and further modifying images. If in the original dataset, 14 of the 15 cats had black fur, then in the augmented training set 90% of thousands of cat examples might have black fur leading the neural network to strongly associate black fur with cats -  when in truth maybe only 50% of cats have black fur. This would be overfitting to the dataset.     \n",
    "\n",
    "To further improve this work it may also be recommended to use a convolution neural network that could more quickly process high resolution images."
   ]
  }
 ],
 "metadata": {
  "kernelspec": {
   "display_name": "Python 3 (ipykernel)",
   "language": "python",
   "name": "python3"
  },
  "language_info": {
   "codemirror_mode": {
    "name": "ipython",
    "version": 3
   },
   "file_extension": ".py",
   "mimetype": "text/x-python",
   "name": "python",
   "nbconvert_exporter": "python",
   "pygments_lexer": "ipython3",
   "version": "3.9.12"
  }
 },
 "nbformat": 4,
 "nbformat_minor": 5
}
